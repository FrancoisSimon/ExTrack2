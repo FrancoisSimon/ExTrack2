{
 "cells": [
  {
   "cell_type": "code",
   "execution_count": 1,
   "id": "cddae352",
   "metadata": {},
   "outputs": [
    {
     "name": "stdout",
     "output_type": "stream",
     "text": [
      "version: 1.4\n"
     ]
    }
   ],
   "source": [
    "import extrack\n",
    "import numpy as np\n",
    "from matplotlib import pyplot as plt\n",
    "import multiprocessing"
   ]
  },
  {
   "cell_type": "markdown",
   "id": "14ef40fc",
   "metadata": {},
   "source": [
    "In this tutorial, we will have an overview of all the possible kind of data sets that can be used in the fitting module of ExTrack and how to instanciate parameters depending of the data set.\n",
    "\n",
    "\n",
    "\n"
   ]
  },
  {
   "cell_type": "code",
   "execution_count": 2,
   "id": "6845fc4e",
   "metadata": {},
   "outputs": [
    {
     "name": "stdout",
     "output_type": "stream",
     "text": [
      "number of tracks:\n",
      "5 pos : 9897, \n"
     ]
    }
   ],
   "source": [
    "dt = 0.02\n",
    "\n",
    "all_tracks, all_Bs, all_sigmas = extrack.simulate_tracks.sim_FOV(nb_tracks=10000,\n",
    "                                                     max_track_len=5,\n",
    "                                                     LocErr=np.array([0.02, 0.02, 0.04]), # localization error in x, y and z (even if not used)\n",
    "                                                     Ds = np.array([0,0.25]),\n",
    "                                                     initial_fractions = np.array([0.6,0.4]),\n",
    "                                                     TrMat = np.array([[0.9,0.1],[0.1,0.9]]),\n",
    "                                                     dt = dt,\n",
    "                                                     nb_dims = 2,\n",
    "                                                     LocErr_std = 1e-10, # normalized standard deviation of localization error (coef of variation)\n",
    "                                                     pBL = 0.001,\n",
    "                                                     cell_dims = [100,None,None], # dimension limits in x, y and z respectively\n",
    "                                                     min_len = 5)\n"
   ]
  },
  {
   "cell_type": "code",
   "execution_count": 4,
   "id": "c9571d72",
   "metadata": {},
   "outputs": [
    {
     "name": "stdout",
     "output_type": "stream",
     "text": [
      ".........................................................................................................................................................................................................................................................................................................................................................................................................\n"
     ]
    }
   ],
   "source": [
    "# fit parameters of the simulated tracks : \n",
    "# increase the number of workers accordingly to your number of avaialable core for faster computing, not working on windows\n",
    "\n",
    "#First, parameters of the model have to be set, parameters of a 2-state can be initialized as such:\n",
    "nb_states = 2\n",
    "steady_state = False\n",
    "\n",
    "vary_params = {'LocErr' : True, 'D0' : True, 'D1' : True, 'F0' : True, 'p01' : True, 'p10' : True, 'pBL' : False}\n",
    "estimated_vals =  {'LocErr' : 0.025, 'D0' : 1e-20, 'D1' : 0.05, 'F0' : 0.45, 'p01' : 0.05, 'p10' : 0.05, 'pBL' : 0.1}\n",
    "min_values = {'LocErr' : 0.007, 'D0' : 1e-12, 'D1' : 0.00001, 'F0' : 0.001, 'p01' : 0.001, 'p10' : 0.001, 'pBL' : 0.001}\n",
    "max_values = {'LocErr' : 0.6, 'D0' : 1, 'D1' : 10, 'F0' : 0.999, 'p01' : 1., 'p10' : 1., 'pBL' : 0.99}\n",
    "\n",
    "# In case of more states, on can use the same technique by adding the correct elements to the vary_params, estimated_vals, min_values and max_values dictionaries\n",
    "\n",
    "params =  extrack.tracking.get_params(nb_states = nb_states, \n",
    "                    steady_state = steady_state,\n",
    "                    vary_params = vary_params,\n",
    "                    estimated_vals = estimated_vals,\n",
    "                    min_values = min_values,\n",
    "                    max_values = max_values)\n",
    "\n",
    "cell_dims = [100]\n",
    "nb_substeps = 1\n",
    "nb_states = 2\n",
    "frame_len = 5\n",
    "verbose = 0\n",
    "workers = 1\n",
    "input_LocErr = None\n",
    "method = 'powell'\n",
    "steady_state = False\n",
    "\n",
    "model_fit = extrack.tracking.param_fitting(all_tracks,\n",
    "                                           params = params,\n",
    "                                           dt = dt,\n",
    "                                           cell_dims = [100],\n",
    "                                           nb_substeps = 1,\n",
    "                                           nb_states = 2,\n",
    "                                           frame_len = 5,\n",
    "                                           verbose = 0,\n",
    "                                           workers = 1,\n",
    "                                           input_LocErr = None,\n",
    "                                           method = 'powell',\n",
    "                                           steady_state = False)\n",
    "\n",
    "for param in model_fit.params:\n",
    "    print(param + ':', np.round(model_fit.params[param].value, 6), ',', end = '')\n"
   ]
  },
  {
   "cell_type": "markdown",
   "id": "7f42423f",
   "metadata": {},
   "source": [
    "## Using the function generate params\n",
    "\n",
    "The function generate_params allows to create different format of parameters depending on the user needs.\n",
    "\n",
    "### Function extrack.tracking.generate_params\n",
    "\n",
    "arguments:\n",
    "\n",
    "- nb_states: number of states of the model.\n",
    "- LocErr_type: Type of localization errors which can be specified, unique/multiple localization error parameters, input localization error for each peak based on peaks, etc. See below for more information. \n",
    "- nb_dims: number of spatial dimensions, only matters if LocErr_type == 2, which stands for independent localization error parameters for each dimension.\n",
    "- LocErr_bounds: list of minimal and maximal values allowed for localization error parameters. e.g. [0.005, 0.1]., The initial guess on LocErr will be the geometric mean of the boundaries if estimated_LocErr = None.\n",
    "- D_max: maximum diffusion coefficient allowed.\n",
    "- Fractions_bounds: list of minimum and maximum values for initial fractions.\n",
    "- estimated_LocErr: One can specify a list of initial guesses for localization error for each dimension. The list must contain 1 element if LocErr_type = 1, nb_dims elements if LocErr_type = 2 (for each dimension) or 2 elements if LocErr_type = 3 (the first element for x,y axes and the second for z axis).\n",
    "- estimated_Ds: list of estimated D (nb_states elements), D will be arbitrary interspaced from 0 to D_max if None, otherwise input 1D array/list of Ds for each state from state 0 to nb_states - 1.\n",
    "- estimated_Fs: list of estimated initial fractions (nb_states elements). Fractions will be initialized as equal if None (1/nb_states), otherwise input 1D array/list of fractions for each state from state 0 to nb_states - 1.\n",
    "- estimated_transition_rates: initial guess of the values for transition rate per step. can be a float (from 0 to 1), in this case all rates will be initialized with the same float value. Can also be a 1D array or list of transition rates from state i to j varying the i then the j, for instance [k01, k02, k10, k12, k20, k21] in case of a 3-state model. The number of elements must be nb_states * (nb_states -1).\n",
    "- slope_offsets_estimates: If LocErr_type = 4, list of Initial guesses for the slope and offset where the peak-wise proxi for localization error input_LocErr is linked to the actual localization error such that: localization error = slope * input_LocErr + offset.\n",
    ")\n",
    "\n",
    "Output:\n",
    "\n",
    "- params: list of parameters to fit.\n",
    "\n",
    "## The LocErr_type argument:\n",
    "\n",
    "The LocErr_type argument allows to create a list of parameters that is most suited to the experiments: If None Localization error will not be considered as a parameter and thus won't be fitted. In this specific case, the user will have to use input_LocErr in the fitting function to inform the model about localization error for each peak (See below). \n",
    "\n",
    "- LocErr_type = 1: For a single localization error parameter, all spatial dimensions will use the same localization error.\n",
    "- LocErr_type = 2: For a localization error parameter for each dimension. Localization error parameter for dim i will be 'LocErr'+str(i).\n",
    "- LocErr_type = 3: For a shared localization error for x and y dims (the 2 first dimensions) and another for z dimension. The z dimension has to be the 3rd in the input tracks.\n",
    "- LocErr_type = 4: Can be used when the user has a measurement of the peak quality which is not exactly the localization error. It will draw an affine relationship between localization error according to ExTrack and the peak-wise input specified with input_LocErr (an estimate of localization error/quality of peak/signal to noise ratio, etc).\n",
    "- LocErr_type = None: For no localization error fits, localization error is then directly assumed from a prior peak-wise estimate of localization error specified in input_LocErr.\n",
    "\n",
    "See below for practical examples using the different LocErr_type values:"
   ]
  },
  {
   "cell_type": "code",
   "execution_count": 6,
   "id": "f9cf2d8b",
   "metadata": {},
   "outputs": [
    {
     "name": "stdout",
     "output_type": "stream",
     "text": [
      "...x...............................................................................................xx.x.....................................................................................\n",
      "Parameters([('D0', <Parameter 'D0', value=0.0003069071470827578, bounds=[0:3]>), ('D1', <Parameter 'D1', value=0.25344110240304135, bounds=[0:3]>), ('LocErr', <Parameter 'LocErr', value=0.019843255432158303, bounds=[0.005:0.1]>), ('F0', <Parameter 'F0', value=0.6101541326726733, bounds=[0.001:0.99]>), ('F1', <Parameter 'F1', value=0.38984586732732673, bounds=[-inf:inf], expr='1 - F0'>), ('p01', <Parameter 'p01', value=0.09741551432756747, bounds=[0.0001:1]>), ('p10', <Parameter 'p10', value=0.09341863899436702, bounds=[0.0001:1]>), ('pBL', <Parameter 'pBL', value=0.05657639536566579, bounds=[0.0001:1]>)])\n"
     ]
    }
   ],
   "source": [
    "# as mentioned above, LocErr_type = 1 creates a single localization error parameter for all peaks:\n",
    "\n",
    "params = extrack.tracking.generate_params(nb_states = 2,\n",
    "                         LocErr_type = 1, # Type of localization error to be used, see https://github.com/vanTeeffelenLab/ExTrack/wiki/Localization-Error for more informations,\n",
    "                         LocErr_bounds = [0.005, 0.1], # the initial guess on LocErr will be the geometric mean of the boundaries\n",
    "                         D_max = 3, # maximal diffusion length allowed\n",
    "                         Fractions_bounds = [0.001, 0.99],\n",
    "                         estimated_transition_rates = 0.1 # transition rate per step.\n",
    "                         )\n",
    "\n",
    "model_fit = extrack.tracking.param_fitting(all_tracks = all_tracks,\n",
    "                                           dt = dt,\n",
    "                                           params = params,\n",
    "                                           cell_dims = [100],\n",
    "                                           nb_substeps = 1,\n",
    "                                           nb_states = 2,\n",
    "                                           frame_len = 5,\n",
    "                                           verbose = 0,\n",
    "                                           workers = 1,\n",
    "                                           input_LocErr = None,\n",
    "                                           method = 'powell',\n",
    "                                           steady_state = False)\n",
    "\n",
    "for param in model_fit.params:\n",
    "    print(param + ':', np.round(model_fit.params[param].value, 6), ',', end = '')\n",
    "    "
   ]
  },
  {
   "cell_type": "code",
   "execution_count": 11,
   "id": "6ee67afd",
   "metadata": {},
   "outputs": [
    {
     "name": "stdout",
     "output_type": "stream",
     "text": [
      "..xx.xx...................................................................................................xx.xx.....................................................................................\n",
      "Parameters([('D0', <Parameter 'D0', value=0.00013127625959619138, bounds=[0:10]>), ('D1', <Parameter 'D1', value=0.25249584050548834, bounds=[0:10]>), ('LocErr', <Parameter 'LocErr', value=0.019985955236071697, bounds=[0.005:0.1]>), ('F0', <Parameter 'F0', value=0.6099362533126705, bounds=[0.001:0.99]>), ('F1', <Parameter 'F1', value=0.39006374668732946, bounds=[-inf:inf], expr='1 - F0'>), ('p01', <Parameter 'p01', value=0.09788417685783249, bounds=[0.0001:1]>), ('p10', <Parameter 'p10', value=0.09387844733673723, bounds=[0.0001:1]>), ('pBL', <Parameter 'pBL', value=0.05298821956893871, bounds=[0.0001:1]>)])\n"
     ]
    }
   ],
   "source": [
    "# Estimates of each parameter can also be specified as followed by using the arguments\n",
    "# estimated_LocErr, estimated_Ds, estimated_Fs and estimated_transition_rates:\n",
    "\n",
    "params = extrack.tracking.generate_params(nb_states = 2,\n",
    "                    LocErr_type = 1,\n",
    "                    nb_dims = 3, # only matters if LocErr_type == 2,\n",
    "                    LocErr_bounds = [0.005, 0.1], # the initial guess on LocErr will be the geometric mean of the boundaries\n",
    "                    D_max = 10, # maximal diffusion coefficient allowed\n",
    "                    Fractions_bounds = [0.001, 0.99],\n",
    "                    estimated_LocErr = [0.02],\n",
    "                    estimated_Ds = [0, 0.25], # input a list of Ds for each state from state 0 to nb_states - 1. If None, Ds will be spaced from 0 to D_max\n",
    "                    estimated_Fs = [0.5, 0.5], # one can input a list of fractions for each state from state 0 to nb_states - 1. If None all fractions will be equal.\n",
    "                    estimated_transition_rates = [0.1, 0.1], # transition rate per step. [0.1,0.05,0.03,0.07,0.2,0.2]\n",
    "                    slope_offsets_estimates = None # need to specify the list [slop, offset] if LocErr_type = 4,\n",
    "                    )\n",
    "\n",
    "model_fit = extrack.tracking.param_fitting(all_tracks = all_tracks,\n",
    "                                           dt = dt,\n",
    "                                           params = params,\n",
    "                                           cell_dims = [100],\n",
    "                                           nb_substeps = 1,\n",
    "                                           nb_states = 2,\n",
    "                                           frame_len = 5,\n",
    "                                           verbose = 0,\n",
    "                                           workers = 1,\n",
    "                                           input_LocErr = None,\n",
    "                                           method = 'powell',\n",
    "                                           steady_state = False)\n",
    "\n",
    "for param in model_fit.params:\n",
    "    print(param + ':', np.round(model_fit.params[param].value, 6), ',', end = '')\n",
    "    "
   ]
  },
  {
   "cell_type": "code",
   "execution_count": 15,
   "id": "cbf4297e",
   "metadata": {},
   "outputs": [
    {
     "name": "stdout",
     "output_type": "stream",
     "text": [
      "number of tracks:\n",
      "5 pos : 9915, \n",
      "...x...........x.........................................................................................xx..........................................................................................................................................................................................................................................................................................................................................................................................................................................................\n",
      "D0: 0.000172 ,    D1: 0.257219 ,    LocErr0: 0.017988 ,    LocErr1: 0.021815 ,    LocErr2: 0.039941 ,    F0: 0.609309 ,    F1: 0.390691 ,    p01: 0.096013 ,    p10: 0.104264 ,    pBL: 0.281303 ,    "
     ]
    }
   ],
   "source": [
    "# LocErr_type = 2 allows to use one localization error parameters for each spacial dimension :\n",
    "# in this case for instance we generate 3D tracks with localization errors of 0.018 um in x, 0.022 um in y and 0.04 um in z.\n",
    "\n",
    "all_tracks, all_Bs, all_sigs = extrack.simulate_tracks.sim_FOV(nb_tracks=10000,\n",
    "                                                     max_track_len=5,\n",
    "                                                     LocErr=np.array([0.018, 0.022, 0.04]),\n",
    "                                                     Ds = np.array([0,0.25]),\n",
    "                                                     initial_fractions = np.array([0.6,0.4]),\n",
    "                                                     TrMat = np.array([[0.9,0.1],[0.1,0.9]]),\n",
    "                                                     dt = dt,\n",
    "                                                     nb_dims = 3,\n",
    "                                                     LocErr_std = 1e-10, # normalized standard deviation of localization error (coef of variation)\n",
    "                                                     pBL = 0.001,\n",
    "                                                     cell_dims = [100,None,None], # dimension limits in x, y and z respectively\n",
    "                                                     min_len = 5)\n",
    "    \n",
    "params = extrack.tracking.generate_params(nb_states = 2,\n",
    "                         LocErr_type = 2, # Type of localization error to be used, see https://github.com/vanTeeffelenLab/ExTrack/wiki/Localization-Error for more informations,\n",
    "                         nb_dims = 3, # number of spatial dimensions of the tracks, only matter if LocErr_type == 2,\n",
    "                         LocErr_bounds = [0.005, 0.1], # the initial guess on LocErr will be the geometric mean of the boundaries\n",
    "                         D_max = 1, # maximal diffusion length allowed\n",
    "                         Fractions_bounds = [0.001, 0.99],\n",
    "                         estimated_transition_rates = 0.1 # transition rate per step.\n",
    "                         )\n",
    "\n",
    "model_fit = extrack.tracking.param_fitting(all_tracks,\n",
    "                                           params = params,\n",
    "                                           dt = dt,\n",
    "                                           cell_dims = [100],\n",
    "                                           nb_substeps = 1,\n",
    "                                           nb_states = 2,\n",
    "                                           frame_len = 5,\n",
    "                                           verbose = 0,\n",
    "                                           workers = 1,\n",
    "                                           input_LocErr = None,\n",
    "                                           method = 'powell',\n",
    "                                           steady_state = False)\n",
    "\n",
    "for param in model_fit.params:\n",
    "    print(param + ':', np.round(model_fit.params[param].value, 6), ',    ', end = '')\n"
   ]
  },
  {
   "cell_type": "markdown",
   "id": "fc201815",
   "metadata": {},
   "source": [
    "## LocErr_type = 3\n",
    "\n",
    "LocErr_type = 3 allows to use a unique localization error parameters for x and y axes and another for z axis:\n"
   ]
  },
  {
   "cell_type": "code",
   "execution_count": 17,
   "id": "4261130f",
   "metadata": {},
   "outputs": [
    {
     "name": "stdout",
     "output_type": "stream",
     "text": [
      "number of tracks:\n",
      "5 pos : 9910, \n",
      "...x...........x..............................................................................xx......................................................................................................................................................................................................................................................................................................................................................................................................\n",
      "D0: 0.00015 ,    D1: 0.256806 ,    LocErr0: 0.01997 ,    LocErr1: 0.01997 ,    LocErr2: 0.039961 ,    F0: 0.614916 ,    F1: 0.385084 ,    p01: 0.099082 ,    p10: 0.103153 ,    pBL: 0.068394 ,    "
     ]
    }
   ],
   "source": [
    "\n",
    "all_tracks, all_Bs, all_sigs = extrack.simulate_tracks.sim_FOV(nb_tracks=10000,\n",
    "                                                     max_track_len=5,\n",
    "                                                     LocErr=np.array([0.02, 0.02, 0.04]),\n",
    "                                                     Ds = np.array([0,0.25]),\n",
    "                                                     initial_fractions = np.array([0.6,0.4]),\n",
    "                                                     TrMat = np.array([[0.9,0.1],[0.1,0.9]]),\n",
    "                                                     dt = dt,\n",
    "                                                     nb_dims = 3,\n",
    "                                                     LocErr_std = 1e-10, # normalized standard deviation of localization error (coef of variation)\n",
    "                                                     pBL = 0.001,\n",
    "                                                     cell_dims = [100,None,None], # dimension limits in x, y and z respectively\n",
    "                                                     min_len = 5)\n",
    "    \n",
    "params = extrack.tracking.generate_params(nb_states = 2,\n",
    "                         LocErr_type = 3, # Type of localization error to be used, see https://github.com/vanTeeffelenLab/ExTrack/wiki/Localization-Error for more informations,\n",
    "                         nb_dims = 3, # number of spatial dimensions of the tracks, only matter if LocErr_type == 2,\n",
    "                         LocErr_bounds = [0.005, 0.1], # the initial guess on LocErr will be the geometric mean of the boundaries\n",
    "                         D_max = 1, # maximal diffusion length allowed\n",
    "                         Fractions_bounds = [0.001, 0.99],\n",
    "                         estimated_transition_rates = 0.1 # transition rate per step.\n",
    "                         )\n",
    "\n",
    "model_fit = extrack.tracking.param_fitting(all_tracks,\n",
    "                                           params = params,\n",
    "                                           dt = dt,\n",
    "                                           cell_dims = [100],\n",
    "                                           nb_substeps = 1,\n",
    "                                           nb_states = 2,\n",
    "                                           frame_len = 5,\n",
    "                                           verbose = 0,\n",
    "                                           workers = 1,\n",
    "                                           input_LocErr = None,\n",
    "                                           method = 'powell',\n",
    "                                           steady_state = False)\n",
    "\n",
    "for param in model_fit.params:\n",
    "    print(param + ':', np.round(model_fit.params[param].value, 6), ',    ', end = '')\n"
   ]
  },
  {
   "cell_type": "markdown",
   "id": "65c2e29f",
   "metadata": {},
   "source": [
    "## LocErr_type = None\n",
    "\n",
    "LocErr_type = None allows to use an estimate of localization error as input for each peak specified by the argument input_LocErr).\n",
    "\n",
    "input_LocErr must have the type of structure than all_tracks (dict of array with track lengths as keys and arrays of dims (number of tracks, track length, number of spatial dimensions).\n",
    "\n",
    "values of input_LocErr has to be computed from the movies prior tracking, the reader functions allow to collect these values using the argument opt_metrics_names for read_trackmate_xml and opt_colnames for read_table.\n"
   ]
  },
  {
   "cell_type": "code",
   "execution_count": 4,
   "id": "6ed98b9a",
   "metadata": {},
   "outputs": [
    {
     "name": "stdout",
     "output_type": "stream",
     "text": [
      "number of tracks:\n",
      "5 pos : 9913, \n",
      "...x.....................................................................x.......................................................................................................................................................\n",
      "D0: 8.7e-05 ,    D1: 0.254977 ,    F0: 0.60567 ,    F1: 0.39433 ,    p01: 0.096369 ,    p10: 0.102365 ,    pBL: 0.771589 ,    "
     ]
    }
   ],
   "source": [
    "\n",
    "all_tracks, all_Bs, all_sigs = extrack.simulate_tracks.sim_FOV(nb_tracks=10000,\n",
    "                                                     max_track_len=5,\n",
    "                                                     LocErr=np.array([0.018, 0.022, 0.04]),\n",
    "                                                     Ds = np.array([0,0.25]),\n",
    "                                                     initial_fractions = np.array([0.6,0.4]),\n",
    "                                                     TrMat = np.array([[0.9,0.1],[0.1,0.9]]),\n",
    "                                                     dt = dt,\n",
    "                                                     nb_dims = 3,\n",
    "                                                     LocErr_std = 0.2, # normalized standard deviation of localization error (coef of variation)\n",
    "                                                     pBL = 0.001,\n",
    "                                                     cell_dims = [100,None,None], # dimension limits in x, y and z respectively\n",
    "                                                     min_len = 5)\n",
    "\n",
    "params = extrack.tracking.generate_params(nb_states = 2,\n",
    "                         LocErr_type = None, # Type of localization error to be used, see https://github.com/vanTeeffelenLab/ExTrack/wiki/Localization-Error for more informations,\n",
    "                         nb_dims = 3, # number of spatial dimensions of the tracks, only matter if LocErr_type == 2,\n",
    "                         LocErr_bounds = [0.005, 0.1], # the initial guess on LocErr will be the geometric mean of the boundaries\n",
    "                         D_max = 1, # maximal diffusion length allowed\n",
    "                         Fractions_bounds = [0.001, 0.99],\n",
    "                         estimated_transition_rates = 0.1 # transition rate per step.\n",
    "                         )\n",
    "\n",
    "model_fit = extrack.tracking.param_fitting(all_tracks,\n",
    "                                           params = params,\n",
    "                                           dt = dt,\n",
    "                                           cell_dims = [100],\n",
    "                                           nb_substeps = 1,\n",
    "                                           nb_states = 2,\n",
    "                                           frame_len = 5,\n",
    "                                           verbose = 0,\n",
    "                                           workers = 1,\n",
    "                                           input_LocErr = all_sigs,\n",
    "                                           method = 'powell',\n",
    "                                           steady_state = False)\n",
    "\n",
    "for param in model_fit.params:\n",
    "    print(param + ':', np.round(model_fit.params[param].value, 6), ',    ', end = '')\n"
   ]
  },
  {
   "cell_type": "code",
   "execution_count": 3,
   "id": "ed1624c5",
   "metadata": {},
   "outputs": [
    {
     "name": "stdout",
     "output_type": "stream",
     "text": [
      "...x.....................................................................x...........................................................................................................................................................\n",
      "D0: 4.9e-05 ,    D1: 0.230044 ,    F0: 0.496684 ,    F1: 0.503316 ,    p01: 0.086127 ,    p10: 0.114738 ,    pBL: 0.128995 ,    "
     ]
    }
   ],
   "source": [
    "path = './tracks.xml'\n",
    "\n",
    "all_tracks, all_frames, opt_metrics = extrack.readers.read_trackmate_xml(path,\n",
    "                                       lengths=np.arange(5,50),\n",
    "                                       dist_th = 0.3,\n",
    "                                       frames_boundaries = [-np.inf, np.inf],\n",
    "                                       remove_no_disp = True, \n",
    "                                       opt_metrics_names = ['LocErrs0', 'LocErrs1'], # e.g. ['pred_0', 'pred_1'],\n",
    "                                       opt_metrics_types = None # will assume 'float64' type if none, otherwise specify a list of same length as opt_metrics_names: e.g. ['float64','float64']\n",
    "                                       )\n",
    "\n",
    "params = extrack.tracking.generate_params(nb_states = 2,\n",
    "                         LocErr_type = None, # Type of localization error to be used, see https://github.com/vanTeeffelenLab/ExTrack/wiki/Localization-Error for more informations,\n",
    "                         nb_dims = 3, # number of spatial dimensions of the tracks, only matter if LocErr_type == 2,\n",
    "                         LocErr_bounds = [0.005, 0.1], # the initial guess on LocErr will be the geometric mean of the boundaries\n",
    "                         D_max = 1, # maximal diffusion length allowed\n",
    "                         Fractions_bounds = [0.001, 0.99],\n",
    "                         estimated_transition_rates = 0.1 # transition rate per step.\n",
    "                         )\n",
    "\n",
    "# Here, opt_metrics is a dict of dicts of keys opt_metrics_names so 'LocErrs0' and 'LocErrs1'\n",
    "# opt_metrics['LocErrs0'] and opt_metrics['LocErrs1'] are then 2D arrays, for each time position (dim 1) of every track (dim 0).\n",
    "# We need to concatenate locErrs0 and locErrs1 to fit the format of all_tracks (dim 0: track ID, dim 1: time position, dim 2: spatial dims):\n",
    "input_LocErr = {}\n",
    "for l in all_tracks.keys():\n",
    "    input_LocErr[l] = np.concatenate((opt_metrics['LocErrs0'][l][:,:,None], opt_metrics['LocErrs1'][l][:,:,None]),axis = 2) # concatenate on the axis 2 which represents the spatial dims\n",
    "    \n",
    "model_fit = extrack.tracking.param_fitting(all_tracks,\n",
    "                                           params = params,\n",
    "                                           dt = dt,\n",
    "                                           cell_dims = [100],\n",
    "                                           nb_substeps = 1,\n",
    "                                           nb_states = 2,\n",
    "                                           frame_len = 5,\n",
    "                                           verbose = 0,\n",
    "                                           workers = 1,\n",
    "                                           input_LocErr = input_LocErr,\n",
    "                                           method = 'powell',\n",
    "                                           steady_state = False)\n",
    "\n",
    "for param in model_fit.params:\n",
    "    print(param + ':', np.round(model_fit.params[param].value, 6), ',    ', end = '')\n",
    "    "
   ]
  },
  {
   "cell_type": "code",
   "execution_count": 4,
   "id": "2ba3b3a9",
   "metadata": {},
   "outputs": [
    {
     "name": "stdout",
     "output_type": "stream",
     "text": [
      "...x...........................................................................x.........................................................................\n",
      "D0: 1.1e-05 ,    D1: 0.476311 ,    F0: 0.441395 ,    F1: 0.558605 ,    p01: 0.090904 ,    p10: 0.109544 ,    pBL: 0.144649 ,    "
     ]
    }
   ],
   "source": [
    "path = './tracks.csv'\n",
    "# headers of the csv above are: X,Y,frame,track_ID,pred_0,pred_1,LocErrs0,LocErrs1\n",
    "# We then need to change the argument colnames accordingly.\n",
    "\n",
    "all_tracks, frames, opt_metrics = extrack.readers.read_table(path, # path of the file to read or list of paths\n",
    "                                      lengths = np.arange(5,16), # number of positions per track accepted (take the first position if longer than max\n",
    "                                      dist_th = 0.3, # maximum distance allowed for consecutive positions \n",
    "                                      frames_boundaries = [0, 10000], # \n",
    "                                      fmt = 'csv', # format of the document to be red, 'csv' or 'pkl', one can also just specify a separator e.g. ' '. \n",
    "                                      colnames = ['X', 'Y', 'frame', 'track_ID'], \n",
    "                                      opt_colnames = ['LocErrs0', 'LocErrs1'], # list of additional metrics to collect e.g. ['QUALITY', 'TRACK_ID']\n",
    "                                      remove_no_disp = True)\n",
    "\n",
    "# Here, opt_metrics is a dict of dicts of keys opt_metrics_names so 'LocErrs0' and 'LocErrs1'\n",
    "# opt_metrics['LocErrs0'] and opt_metrics['LocErrs1'] are then 2D arrays, for each time position (dim 1) of every track (dim 0).\n",
    "# We need to concatenate locErrs0 and locErrs1 to fit the format of all_tracks (dim 0: track ID, dim 1: time position, dim 2: spatial dims):\n",
    "\n",
    "params = extrack.tracking.generate_params(nb_states = 2,\n",
    "                         LocErr_type = None, # Type of localization error to be used, see https://github.com/vanTeeffelenLab/ExTrack/wiki/Localization-Error for more informations,\n",
    "                         nb_dims = 3, # number of spatial dimensions of the tracks, only matter if LocErr_type == 2,\n",
    "                         LocErr_bounds = [0.005, 0.1], # the initial guess on LocErr will be the geometric mean of the boundaries\n",
    "                         D_max = 1, # maximal diffusion length allowed\n",
    "                         Fractions_bounds = [0.001, 0.99],\n",
    "                         estimated_transition_rates = 0.1 # transition rate per step.\n",
    "                         )\n",
    "\n",
    "input_LocErr = {}\n",
    "for l in all_tracks.keys():\n",
    "    input_LocErr[l] = np.concatenate((opt_metrics['LocErrs0'][l][:,:,None], opt_metrics['LocErrs1'][l][:,:,None]),axis = 2) # concatenate on the axis 2 which represents the spatial dims\n",
    "    \n",
    "model_fit = extrack.tracking.param_fitting(all_tracks,\n",
    "                                           params = params,\n",
    "                                           dt = dt,\n",
    "                                           cell_dims = [100],\n",
    "                                           nb_substeps = 1,\n",
    "                                           nb_states = 2,\n",
    "                                           frame_len = 5,\n",
    "                                           verbose = 0,\n",
    "                                           workers = 1,\n",
    "                                           input_LocErr = input_LocErr,\n",
    "                                           method = 'powell',\n",
    "                                           steady_state = False)\n",
    "\n",
    "for param in model_fit.params:\n",
    "    print(param + ':', np.round(model_fit.params[param].value, 6), ',    ', end = '')\n"
   ]
  },
  {
   "cell_type": "markdown",
   "id": "1e970fad",
   "metadata": {},
   "source": [
    "## LocErr_type = 4\n",
    "\n",
    "LocErr_type = 4 allows to use the same kind of estimates than with LocErr_type = None (see above)  and perform a linear fit (y = a*x + b) to find the best estimate of localization error:\n",
    "\n",
    "input_LocErr can be the Cramer-Rao Lower bound estimate of localization error, the signal to noise ratio, a quality estimator, etc."
   ]
  },
  {
   "cell_type": "code",
   "execution_count": 7,
   "id": "03a3a095",
   "metadata": {},
   "outputs": [
    {
     "name": "stdout",
     "output_type": "stream",
     "text": [
      "number of tracks:\n",
      "5 pos : 9934, \n",
      "...x.x..........x...............................................................................................x.xx..................................................................................................................x.............................................................................................................................................................................................................................................................................................................................................................................................................................................................................................................................................................................................................................................................................................................................................................................................................................................................................................................................................................................................................................................................\n",
      "D0: 0.000146 ,    D1: 0.250133 ,    slope_LocErr: 2.049567 ,    offset_LocErr: -0.010644 ,    F0: 0.607688 ,    F1: 0.392312 ,    p01: 0.095384 ,    p10: 0.098558 ,    pBL: 0.930589 ,    "
     ]
    }
   ],
   "source": [
    "\n",
    "# LocErr_type = 4 allows to use the same kind of estimates than with LocErr_type = None (see above)  and perform a linear fit (y = a*x + b) to find the best estimate of localization error:\n",
    "# input_LocErr can be the Cramer-Rao Lower bound estimate of localization error, the signal to noise ratio, a quality estimator, etc.\n",
    "all_tracks, all_Bs, all_sigs = extrack.simulate_tracks.sim_FOV(nb_tracks=10000,\n",
    "                                                     max_track_len=5,\n",
    "                                                     LocErr=np.array([0.018, 0.022, 0.04]),\n",
    "                                                     Ds = np.array([0,0.25]),\n",
    "                                                     initial_fractions = np.array([0.6,0.4]),\n",
    "                                                     TrMat = np.array([[0.9,0.1],[0.1,0.9]]),\n",
    "                                                     dt = dt,\n",
    "                                                     nb_dims = 3,\n",
    "                                                     LocErr_std = 0.2, # normalized standard deviation of localization error (coef of variation)\n",
    "                                                     pBL = 0.001,\n",
    "                                                     cell_dims = [100,None,None], # dimension limits in x, y and z respectively\n",
    "                                                     min_len = 5)\n",
    "#linear regression of type: LocErr = Metric * slope + offset  <==>  Metric = (LocErr - offset) / slope\n",
    "\n",
    "slop = 2\n",
    "offset = -0.01\n",
    "input_LocErr = {}\n",
    "for l in all_sigs.keys():\n",
    "    input_LocErr[l] = (all_sigs[l] - offset)  / slop \n",
    "\n",
    "params = extrack.tracking.generate_params(nb_states = 2,\n",
    "                         LocErr_type = 4, # Type of localization error to be used, see https://github.com/vanTeeffelenLab/ExTrack/wiki/Localization-Error for more informations,\n",
    "                         nb_dims = 3, # number of spatial dimensions of the tracks, only matter if LocErr_type == 2,\n",
    "                         LocErr_bounds = [0.005, 0.1], # the initial guess on LocErr will be the geometric mean of the boundaries\n",
    "                         D_max = 1, # maximal diffusion length allowed\n",
    "                         Fractions_bounds = [0.001, 0.99],\n",
    "                         estimated_transition_rates = 0.1, # transition rate per step.\n",
    "                         slope_offsets_estimates = [1.8, -0.05]\n",
    "                         )\n",
    "\n",
    "model_fit = extrack.tracking.param_fitting(all_tracks,\n",
    "                                           params = params,\n",
    "                                           dt = dt,\n",
    "                                           cell_dims = [100],\n",
    "                                           nb_substeps = 1,\n",
    "                                           nb_states = 2,\n",
    "                                           frame_len = 5,\n",
    "                                           verbose = 0,\n",
    "                                           workers = 1,\n",
    "                                           input_LocErr = input_LocErr,\n",
    "                                           method = 'powell',\n",
    "                                           steady_state = False)\n",
    "\n",
    "# We can then also obtain an estimate of the actual localization error:\n",
    "Estimated_LocErrs = {}\n",
    "for l in input_LocErr.keys():\n",
    "    Estimated_LocErrs[l] = model_fit.params['slope_LocErr'].value * input_LocErr[l] + model_fit.params['offset_LocErr'].value \n",
    "\n",
    "for param in model_fit.params:\n",
    "    print(param + ':', np.round(model_fit.params[param].value, 6), ',    ', end = '')\n",
    "    "
   ]
  },
  {
   "cell_type": "code",
   "execution_count": null,
   "id": "6726c395",
   "metadata": {},
   "outputs": [],
   "source": []
  }
 ],
 "metadata": {
  "kernelspec": {
   "display_name": "Python 3 (ipykernel)",
   "language": "python",
   "name": "python3"
  },
  "language_info": {
   "codemirror_mode": {
    "name": "ipython",
    "version": 3
   },
   "file_extension": ".py",
   "mimetype": "text/x-python",
   "name": "python",
   "nbconvert_exporter": "python",
   "pygments_lexer": "ipython3",
   "version": "3.9.12"
  }
 },
 "nbformat": 4,
 "nbformat_minor": 5
}
